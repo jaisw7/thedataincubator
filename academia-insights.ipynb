{
 "cells": [
  {
   "cell_type": "markdown",
   "metadata": {},
   "source": [
    "### ***Insights into academia***"
   ]
  },
  {
   "cell_type": "markdown",
   "metadata": {},
   "source": [
    "* How has the open-access publishing grown over the years? \n",
    "  * Does it improve the quality of research? How well does open-access translate to the quantity of research? \n",
    "  * Can we devise a normalized research quality metric based on the information?\n",
    "  * To what extend does the open-access benefit the community, in particular, the developing nations? \n",
    "\n",
    "In an attempt to make federally funded research open, initiated by scientists and researchers, Library Genesis is a database for articles and books on various topics, which allows free access to content that is otherwise paywalled or not digitized elsewhere. \n",
    "\n",
    "> A sister site, Sci-Hub's, founder *Alexandra Elbakyan* was listed by *Nature*, in 2016, among the **top ten people that mattered in science**. US ranks *second* in the terms of web-traffic on Sci-Hub and related websites. \n",
    ">\n",
    ">As per wikipedia: Elbakyan's Sci-Hub is widely used in both developed and developing countries, serving over 200,000 requests per day as of February 2016. \n",
    "> * How has the inception of Sci-Hub affected the quality/quantity of research in developing nations? Do more authors go on to write high quality papers in their respective fields? \n",
    "> * Has the number of papers cited per paper increased (with access to large number of papers and therefore more information)? \n",
    "> * Does their sphere of influence increase? Do they get more post-doctoral offers abroad? (This can be partially answered by looking at the collaboration graph of a researcher)\n",
    "\n",
    "In this work, we shall restrict our attention to academic papers. Our study shall be based on ***database record*** of academic papers, ***not*** the actual academic papers themselves. The database, publicly available at http://booksdescr.org/dbdumps/scimag, contains over 70 million records of academic papers. It includes information of paper titles, author list, doi, etc. which in turn can be used to query citation information, abstract, etc. from Google Scholar, Pubmed, Researchgate, etc. The important point is: ***the database is relatively unanalyzed, and LibGen is perhaps the biggest such record of academic papers!*** The databse is incredibly information rich, and can be utilized to reveal insights into publishing. \n",
    "\n",
    "* How does the paper quality of a researcher changes over time in various fields? For example: It is widely believed in Mathematics that ground-breaking contribution are from researchers below 30-35 years of age. How does that vary in other fields, by country of origin, by institution, etc? The intention of this study shall be to provide answers backed by analysis on actual data.\n",
    "\n",
    "> Important Note:\n",
    ">* Our study shall be based on ***database record*** of academic papers, ***not*** the actual academic papers themselves. LibGen has been the subject of various formal academic studies. Few of them are listed below:\n",
    ">  * Karaganis, Joe. *Shadow libraries: access to knowledge in global higher education*. MIT Press, 2018.\n",
    ">  * Cabanac, Guillaume. *Bibliogifts in LibGen? A study of a text‐sharing platform driven by biblioleaks and crowdsourcing.* Journal of the Association for Information Science and Technology 67, no. 4 (2016): 874-884.   \n",
    "\n",
    "Data presentation: \n",
    "* The intention will be to generate an interactive insightful tool on academic publishing (see for example: Hans Rosling's https://www.gapminder.org/tools on socio-economic growth across the globe over years).\n",
    "\n",
    "Tools:\n",
    "* Python: Apache-Spark's ML on large datasets, MySQL, NetworkX, etc; Javascript: d3js"
   ]
  },
  {
   "cell_type": "code",
   "execution_count": 1,
   "metadata": {},
   "outputs": [],
   "source": [
    "import numpy as np\n",
    "import itertools as it\n",
    "from collections import defaultdict\n",
    "import pandas as pd\n",
    "pd.set_option('display.max_colwidth', -1)\n",
    "\n",
    "import matplotlib\n",
    "%matplotlib inline\n",
    "import matplotlib.pyplot as plt\n",
    "\n",
    "import pyspark\n",
    "import MySQLdb\n",
    "import requests"
   ]
  },
  {
   "cell_type": "code",
   "execution_count": 2,
   "metadata": {},
   "outputs": [],
   "source": [
    "# Connect to LibGen's publicly available database\n",
    "db=MySQLdb.connect(user=\"jaiswal0\", passwd=\"dInc#2019\", db=\"8k\")"
   ]
  },
  {
   "cell_type": "code",
   "execution_count": 3,
   "metadata": {},
   "outputs": [
    {
     "name": "stdout",
     "output_type": "stream",
     "text": [
      "   COUNT(*)\n",
      "0  10795980\n"
     ]
    }
   ],
   "source": [
    "# We shall analyze a subportion (~10.8 million) of the entire database (>70 million).\n",
    "num_entries = pd.read_sql('SELECT COUNT(*) FROM scimag', con=db)\n",
    "print(num_entries)"
   ]
  },
  {
   "cell_type": "code",
   "execution_count": 4,
   "metadata": {},
   "outputs": [
    {
     "name": "stdout",
     "output_type": "stream",
     "text": [
      " AbstractURL Attribute1  Attribute2  Attribute3  Attribute4  Attribute5  Attribute6  Author      Day         DOI         DOI2        Filesize    First_page  ID          ISBN        ISSNE       ISSNP       Issue       Journal     JOURNALID   Last_page   MD5         Month       PII         PMC         PubmedID    TimeAdded   Title       visible     Volume      Year       \n"
     ]
    }
   ],
   "source": [
    "# What are the columns\n",
    "cols = pd.read_sql('''SELECT column_name FROM information_schema.columns where table_name='scimag' AND table_schema='2k' ''', con=db)\n",
    "print(cols['COLUMN_NAME'].to_string(index=False).replace(\"\\n\", \"\"))"
   ]
  },
  {
   "cell_type": "code",
   "execution_count": 5,
   "metadata": {},
   "outputs": [
    {
     "name": "stdout",
     "output_type": "stream",
     "text": [
      "                                                                                                                                                                                                                      Author  \\\n",
      "0  Katherine M. Hegmann; Aimee S. Spikes; Avi Orr-Urtreger; Lisa G. Shaffer                                                                                                                                                    \n",
      "1  Vijay Tonk; Nancy R. Schneider; Mauricio R. Delgado; Jen-i Mao; Roger A. Schultz                                                                                                                                            \n",
      "2  Selma Siegel Witchel; Peter A. Lee; Massimo Trucco                                                                                                                                                                          \n",
      "3  Orit Reish; Susan A. Berry; Gordon Dewald; Richard A. King                                                                                                                                                                  \n",
      "4  Angela Gosch; Rainer Pankau                                                                                                                                                                                                 \n",
      "5  Muin J. Khoury; Gary M. Shaw; Cynthia A. Moore; Edward J. Lammer; Joseph Mulinare                                                                                                                                           \n",
      "6  LaGrenade, Lois; Sonoda, Shunro; Miller, Windell; Pate, Ernest; Rodgers-Johnson, Pamela; Hanchard, Barrie; Cranston, Beverley; Fujiyoshi, Toshinobu; Yashiki, Shinji; Blank, Michelle; Gibbs, Clarence J.; Manns, Angela    \n",
      "7  Gershoni-Baruch, Ruth; Leibo, Rina                                                                                                                                                                                          \n",
      "8  Chitayat, David; Babul, Riyana; Silver, Meredith M.; Jay, Venita; Teshima, Ikuko E.; Babyn, Paul; Becker, Laurence E.                                                                                                       \n",
      "9  Rasmussen, Sonja A.; Bieber, Frederick R.; Benacerraf, Beryl R.; Lachman, Ralph S.; Rimoin, David L.; Holmes, Lewis B.                                                                                                      \n",
      "\n",
      "  PubmedID  Year Attribute1  \n",
      "0  8741910  1996             \n",
      "1  8741911  1996             \n",
      "2  8741909  1996             \n",
      "3  8741912  1996             \n",
      "4  8741913  1996             \n",
      "5  8741914  1996             \n",
      "6  8741915  1996             \n",
      "7  8741916  1996             \n",
      "8  8741917  1996             \n",
      "9  8741918  1996             \n"
     ]
    }
   ],
   "source": [
    "# Find entries with a PubmedID\n",
    "art_pubmed = pd.read_sql('''\n",
    "    SELECT Author, PubmedID, Year, Attribute1 FROM scimag \n",
    "    where PubmedID>0 \n",
    "''', con=db)\n",
    "print(art_pubmed[:10])"
   ]
  },
  {
   "cell_type": "code",
   "execution_count": 6,
   "metadata": {},
   "outputs": [
    {
     "data": {
      "text/plain": [
       "1616069"
      ]
     },
     "execution_count": 6,
     "metadata": {},
     "output_type": "execute_result"
    }
   ],
   "source": [
    "# Number of entries with a pubmedID\n",
    "len(art_pubmed)"
   ]
  },
  {
   "cell_type": "markdown",
   "metadata": {},
   "source": [
    "### Nearly 1.6 million entries have a *pubmedID*. Having identified this information, we can query abstract information from NIH database\n",
    "*The abstract information can be utilized to build bi-grams, and potentially a ML model for writing paper abstracts!*"
   ]
  },
  {
   "cell_type": "code",
   "execution_count": 7,
   "metadata": {},
   "outputs": [
    {
     "name": "stdout",
     "output_type": "stream",
     "text": [
      "https://api.ncbi.nlm.nih.gov/lit/ctxp/v1/pubmed/?format=medline&id=8741910\n",
      "[' A genetics evaluation was requested for a 6-week-old infant with multiple congenital  malformations including mild craniofacial anomalies, truncal hypotonia, hypospadias,  and a ventriculoseptal defect. Blood obtained for chromosome analysis revealed an  abnormal chromosome 4. Paternal chromosome analysis showed a 46,XY, inv ins  (3;4)(p21.32;q25q21.2), inv(4)(p15.3q21.2) karyotype. Therefore, the proband\\'s  chromosome 4 was the unbalanced product of this insertional translocation from the  father resulting in partial monosomy 4q. Additionally, the derivative 4 had a  pericentric inversion which was also seen in the father\\'s chromosome 4. During  genetic counseling, the proband\\'s 2-year-old brother was evaluated. He was not felt  to be abnormal in appearance, but was described as having impulsive behavior.  Chromosome analysis on this child revealed 46,XY,der(3)inv  ins(3;4)(p21.32;q25q21.2)pat. This karyotype results in partial trisomy 4q. FISH  using two-color \"painting\" probes for chromosomes 3 and 4 confirmed the G-banded  interpretation in this family. The segregation seen in this family resulted in both  reciprocal products being observed in the two children, with partial 4q monosomy  showing multiple congenital anomalies, and partial 4q trisomy showing very few  phenotypic abnormalities. '] 1996\n",
      "https://api.ncbi.nlm.nih.gov/lit/ctxp/v1/pubmed/?format=medline&id=8741911\n",
      "[' We describe a family in which two siblings exhibited developmental delay, reduced  muscle tone and mild muscle weakness. Cytogenetic evaluation demonstrated that both  children had a tandem duplication of a small portion of the long arm of chromosome  10 [46,XX or XY,dir dup(10)(q24.2-->q24.3)], inherited from their clinically normal  mother, who was found to be mosaic for the duplicated chromosome 10. Fluorescence in  situ hybridization approaches, including total chromosome painting and the use of  regional specific cosmid probes, were used to confirm the chromosome 10q origin of  the duplicated material. This is the smallest confirmed duplication of this portion  of chromosome 10 reported to date. '] 1996\n",
      "https://api.ncbi.nlm.nih.gov/lit/ctxp/v1/pubmed/?format=medline&id=8741909\n",
      "[' Congenital adrenal hyperplasia due to 21-hydroxylase deficiency is a common  autosomal-recessive disorder. During our routine genotyping of affected individuals  and their relatives using allele-specific oligonucleotide hybridization and  single-strand conformational polymorphism analysis, we identified two families each  segregating three mutations. In both families, a mutation known to be associated  with 21-hydroxylase deficiency was identified in healthy individuals but was not  detected in the propositus. The propositus in family 1 was shown to be a homozygous  carrier for G at nucleotide 655, which alters the splice acceptor site at exon 3.  The propositus in family 2 carried the same splicing mutation on the maternal allele  and a gene deletion/conversion on the paternal allele. In both families, other  clinically unaffected relatives carried the Q318X mutation in exon 8. If molecular  diagnostic studies had been limited to the mutation carried by the propositi,  relatives would have been misinformed regarding their status as carriers or mildly  affected individuals. The findings in these two families emphasize the high  frequency of alleles causing 21-hydroxylase deficiency in the population. '] 1996\n"
     ]
    }
   ],
   "source": [
    "url = '''https://api.ncbi.nlm.nih.gov/lit/ctxp/v1/pubmed/?format=medline&id={id}'''\n",
    "headers = {'User-Agent': 'Hydra/1.3.15'}\n",
    "\n",
    "def load_medline(info):\n",
    "    data = info.split(\"\\n\");\n",
    "    infodict = defaultdict(lambda: None)\n",
    "    temp = ['', '']\n",
    "    for line in data:\n",
    "        if not line: continue\n",
    "        if line[4]==\"-\":\n",
    "            if temp[0]!='':\n",
    "              if temp[0] in infodict:\n",
    "                infodict[temp[0]][-1] = temp[1];            \n",
    "              else:\n",
    "                infodict[temp[0]] = [temp[1]]; \n",
    "            temp = [line[:4].strip(), line[5:]]\n",
    "            if temp[0] in infodict:\n",
    "              infodict[temp[0]].append(temp[1]);\n",
    "            else:\n",
    "              infodict[temp[0]] = [temp[1]];\n",
    "        else:\n",
    "            temp[1] += ' ' + line.strip() + ' '    \n",
    "            continue\n",
    "    return dict({\"Abstract\": infodict[\"AB\"]})\n",
    "\n",
    "def fetch_pubmed(pubmedID):\n",
    "    api_url = url.format(id=pubmedID)\n",
    "    print(api_url)\n",
    "    response = requests.get(api_url, headers=headers)\n",
    "    if response.status_code == 200:\n",
    "        return load_medline(response.content.decode('utf-8'))\n",
    "    else:\n",
    "        return None\n",
    "\n",
    "# for all the entries fetch keywords\n",
    "for entry in range(3): \n",
    "    pubmedID = art_pubmed['PubmedID'][entry]\n",
    "    info = fetch_pubmed(pubmedID)\n",
    "    #print(info)\n",
    "    if info:\n",
    "        print(info[\"Abstract\"], art_pubmed['Year'][entry])\n",
    "        art_pubmed['Attribute1'][entry] = info[\"Abstract\"]\n"
   ]
  },
  {
   "cell_type": "code",
   "execution_count": 8,
   "metadata": {},
   "outputs": [],
   "source": [
    "# Find names of all the authors \"individually\" (we split on delimiter ';')\n",
    "authors = pd.read_sql('''\n",
    "    SELECT scimag.ID,\n",
    "      SUBSTRING_INDEX(SUBSTRING_INDEX(scimag.Author, ';', numbers.n), ';', -1) Author\n",
    "FROM\n",
    "  (SELECT 1 n UNION ALL SELECT 2\n",
    "   UNION ALL SELECT 3 UNION ALL SELECT 4 UNION ALL SELECT 5\n",
    "  UNION ALL SELECT 6 UNION ALL SELECT 7 UNION ALL SELECT 8\n",
    "  UNION ALL SELECT 9 UNION ALL SELECT 10) numbers INNER JOIN scimag\n",
    "  ON CHAR_LENGTH(scimag.Author)\n",
    "     -CHAR_LENGTH(REPLACE(scimag.Author, ';', ''))>=numbers.n-1\n",
    "    ORDER BY\n",
    "  ID, n\n",
    "''', con=db)"
   ]
  },
  {
   "cell_type": "code",
   "execution_count": 9,
   "metadata": {},
   "outputs": [
    {
     "data": {
      "text/plain": [
       "30867195"
      ]
     },
     "execution_count": 9,
     "metadata": {},
     "output_type": "execute_result"
    }
   ],
   "source": [
    "len(authors)"
   ]
  },
  {
   "cell_type": "code",
   "execution_count": 10,
   "metadata": {},
   "outputs": [
    {
     "data": {
      "text/plain": [
       "'Yasuhiro Itagaki'"
      ]
     },
     "execution_count": 10,
     "metadata": {},
     "output_type": "execute_result"
    }
   ],
   "source": [
    "authors['Author'][0]"
   ]
  },
  {
   "cell_type": "markdown",
   "metadata": {},
   "source": [
    "### ***What are the most common author names in academia?***"
   ]
  },
  {
   "cell_type": "code",
   "execution_count": null,
   "metadata": {},
   "outputs": [],
   "source": [
    "# We further split every author's names at white spaces\n",
    "#pd.Series(authors['Author'].str.split(\" \").sum()).value_counts()[:10].plot('bar')\n",
    "pds = pd.Series(authors['Author'].str.split(\" \").sum())\n",
    "pds[pds.apply(lambda v: len(v)>3)].value_counts()[:10].plot('bar')"
   ]
  },
  {
   "cell_type": "code",
   "execution_count": null,
   "metadata": {},
   "outputs": [],
   "source": []
  }
 ],
 "metadata": {
  "kernelspec": {
   "display_name": "Python 3",
   "language": "python",
   "name": "python3"
  },
  "language_info": {
   "codemirror_mode": {
    "name": "ipython",
    "version": 3
   },
   "file_extension": ".py",
   "mimetype": "text/x-python",
   "name": "python",
   "nbconvert_exporter": "python",
   "pygments_lexer": "ipython3",
   "version": "3.7.3"
  }
 },
 "nbformat": 4,
 "nbformat_minor": 2
}
